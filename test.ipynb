{
 "cells": [
  {
   "cell_type": "code",
   "execution_count": 18,
   "id": "a9c4f7ff",
   "metadata": {},
   "outputs": [
    {
     "data": {
      "text/plain": [
       "'Đang cập nhật'"
      ]
     },
     "execution_count": 18,
     "metadata": {},
     "output_type": "execute_result"
    }
   ],
   "source": [
    "from scrapy.selector import Selector\n",
    "\n",
    "# HTML snippet giống như trong test.ipynb\n",
    "html_snippet = \"\"\"\n",
    "<div class=\"attr-item\" bis_skin_checked=\"1\">\n",
    "    <div class=\"text\" bis_skin_checked=\"1\">\n",
    "        <span class=\"icon-attr-header\"></span>\n",
    "        <span>Mức lương</span>\n",
    "    </div>\n",
    "    <div class=\"value text-bold text-center\" bis_skin_checked=\"1\">\n",
    "        <span>Đang cập nhật</span>\n",
    "    </div>\n",
    "</div>\n",
    "\"\"\"\n",
    "\n",
    "# Tạo Selector object\n",
    "response = Selector(text=html_snippet)\n",
    "def _parse_important_text(response, text_extract):\n",
    "    # Cách 1: Tìm div.attr-item có chứa span với text cần tìm\n",
    "    salary_container = response.xpath(\n",
    "        f'//div[contains(@class, \"attr-item\") and .//span[contains(text(), \"{text_extract}\")]]'\n",
    "    )\n",
    "    \n",
    "    if salary_container:\n",
    "        # Lấy text từ span bên trong div.value\n",
    "        salary_value = salary_container.css('div[class*=\"value\"] span::text').get()\n",
    "        return salary_value.strip() if salary_value else ''\n",
    "    return ''\n",
    "\n",
    "_parse_important_text(response, 'Mức lương')\n"
   ]
  },
  {
   "cell_type": "code",
   "execution_count": null,
   "id": "25d36760",
   "metadata": {},
   "outputs": [],
   "source": []
  }
 ],
 "metadata": {
  "kernelspec": {
   "display_name": "Python 3",
   "language": "python",
   "name": "python3"
  },
  "language_info": {
   "codemirror_mode": {
    "name": "ipython",
    "version": 3
   },
   "file_extension": ".py",
   "mimetype": "text/x-python",
   "name": "python",
   "nbconvert_exporter": "python",
   "pygments_lexer": "ipython3",
   "version": "3.12.2"
  }
 },
 "nbformat": 4,
 "nbformat_minor": 5
}
